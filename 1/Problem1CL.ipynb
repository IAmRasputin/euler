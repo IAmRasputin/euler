{
 "cells": [
  {
   "cell_type": "markdown",
   "id": "9c30a536-dbb7-44ec-b4cf-0881fd5dabcf",
   "metadata": {},
   "source": [
    "If we list all the natural numbers below 10 that are multiples of 3 or 5, we get\n",
    "3, 5, 6 and 9. The sum of these multiples is 23.\n",
    "\n",
    "**Find the sum of all the multiples of 3 or 5 below 1000.**"
   ]
  },
  {
   "cell_type": "code",
   "execution_count": 1,
   "id": "9d3cc271-9ef7-4017-9e5c-133b32ec3a7a",
   "metadata": {},
   "outputs": [
    {
     "data": {
      "text/plain": [
       "MULTIPLE-OF-3-OR-5"
      ]
     },
     "execution_count": 1,
     "metadata": {},
     "output_type": "execute_result"
    }
   ],
   "source": [
    "(defun multiple-of-3-or-5 (n)\n",
    "    (or (zerop (mod n 3))\n",
    "        (zerop (mod n 5))))"
   ]
  },
  {
   "cell_type": "code",
   "execution_count": 2,
   "id": "ef94b5da-48a2-4435-8eac-f8da3b5e74b9",
   "metadata": {},
   "outputs": [
    {
     "data": {
      "text/plain": [
       "T"
      ]
     },
     "execution_count": 2,
     "metadata": {},
     "output_type": "execute_result"
    }
   ],
   "source": [
    "(multiple-of-3-or-5 15)"
   ]
  },
  {
   "cell_type": "code",
   "execution_count": 3,
   "id": "4ca1be9b-cb58-45e4-baf2-4d65f2923090",
   "metadata": {},
   "outputs": [
    {
     "data": {
      "text/plain": [
       "NIL"
      ]
     },
     "execution_count": 3,
     "metadata": {},
     "output_type": "execute_result"
    }
   ],
   "source": [
    "(multiple-of-3-or-5 19)"
   ]
  },
  {
   "cell_type": "markdown",
   "id": "09918ee4-acc2-46e3-8d09-196d4865a82d",
   "metadata": {},
   "source": [
    "Seems simple enough."
   ]
  },
  {
   "cell_type": "code",
   "execution_count": 4,
   "id": "79ca554a-fb35-4e0a-8aa5-d9d93751b783",
   "metadata": {},
   "outputs": [
    {
     "data": {
      "text/plain": [
       "233168"
      ]
     },
     "execution_count": 4,
     "metadata": {},
     "output_type": "execute_result"
    }
   ],
   "source": [
    "(let ((sum 0))\n",
    "  (dotimes (i 1000)\n",
    "    (when (multiple-of-3-or-5 i)\n",
    "        (incf sum i)))\n",
    "  sum)"
   ]
  }
 ],
 "metadata": {
  "kernelspec": {
   "display_name": "Common Lisp",
   "language": "common-lisp",
   "name": "common-lisp"
  },
  "language_info": {
   "codemirror_mode": "text/x-common-lisp",
   "file_extension": ".lisp",
   "mimetype": "text/x-common-lisp",
   "name": "common-lisp",
   "pygments_lexer": "common-lisp",
   "version": "2.5.3"
  }
 },
 "nbformat": 4,
 "nbformat_minor": 5
}
